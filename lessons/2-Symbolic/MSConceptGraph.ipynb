{
  "cells": [
    {
      "cell_type": "markdown",
      "metadata": {
        "collapsed": true
      },
      "source": [
        "## Microsoft Concept Graph\n",
        "\n",
        "[Microsoft Concept Graph](https://concept.research.microsoft.com/) is a large taxonomy of terms mined from the internet, with `is-a` relations between concepts. \n",
        "\n",
        "Context Graph is available in two forms:\n",
        " * Large text file for download\n",
        " * REST API\n",
        "\n",
        "Statistics:\n",
        " * 5401933 unique concepts, \n",
        " * 12551613 unique instances\n",
        " * 87603947 `is-a` relations"
      ]
    },
    {
      "cell_type": "markdown",
      "metadata": {},
      "source": [
        "## Using Web Service\n",
        "\n",
        "Web service offers different calls to estimate probability of a concept belonging to different groups. More info is available [here](https://concept.research.microsoft.com/Home/Api).\n",
        "Here is the sample URL to call: `https://concept.research.microsoft.com/api/Concept/ScoreByProb?instance=microsoft&topK=10`"
      ]
    },
    {
      "cell_type": "code",
      "execution_count": 1,
      "metadata": {
        "trusted": true
      },
      "outputs": [
        {
          "ename": "URLError",
          "evalue": "<urlopen error [Errno 60] Operation timed out>",
          "output_type": "error",
          "traceback": [
            "\u001b[0;31m---------------------------------------------------------------------------\u001b[0m",
            "\u001b[0;31mTimeoutError\u001b[0m                              Traceback (most recent call last)",
            "File \u001b[0;32m~/miniconda3/lib/python3.8/urllib/request.py:1354\u001b[0m, in \u001b[0;36mAbstractHTTPHandler.do_open\u001b[0;34m(self, http_class, req, **http_conn_args)\u001b[0m\n\u001b[1;32m   1353\u001b[0m \u001b[39mtry\u001b[39;00m:\n\u001b[0;32m-> 1354\u001b[0m     h\u001b[39m.\u001b[39;49mrequest(req\u001b[39m.\u001b[39;49mget_method(), req\u001b[39m.\u001b[39;49mselector, req\u001b[39m.\u001b[39;49mdata, headers,\n\u001b[1;32m   1355\u001b[0m               encode_chunked\u001b[39m=\u001b[39;49mreq\u001b[39m.\u001b[39;49mhas_header(\u001b[39m'\u001b[39;49m\u001b[39mTransfer-encoding\u001b[39;49m\u001b[39m'\u001b[39;49m))\n\u001b[1;32m   1356\u001b[0m \u001b[39mexcept\u001b[39;00m \u001b[39mOSError\u001b[39;00m \u001b[39mas\u001b[39;00m err: \u001b[39m# timeout error\u001b[39;00m\n",
            "File \u001b[0;32m~/miniconda3/lib/python3.8/http/client.py:1256\u001b[0m, in \u001b[0;36mHTTPConnection.request\u001b[0;34m(self, method, url, body, headers, encode_chunked)\u001b[0m\n\u001b[1;32m   1255\u001b[0m \u001b[39m\u001b[39m\u001b[39m\"\"\"Send a complete request to the server.\"\"\"\u001b[39;00m\n\u001b[0;32m-> 1256\u001b[0m \u001b[39mself\u001b[39;49m\u001b[39m.\u001b[39;49m_send_request(method, url, body, headers, encode_chunked)\n",
            "File \u001b[0;32m~/miniconda3/lib/python3.8/http/client.py:1302\u001b[0m, in \u001b[0;36mHTTPConnection._send_request\u001b[0;34m(self, method, url, body, headers, encode_chunked)\u001b[0m\n\u001b[1;32m   1301\u001b[0m     body \u001b[39m=\u001b[39m _encode(body, \u001b[39m'\u001b[39m\u001b[39mbody\u001b[39m\u001b[39m'\u001b[39m)\n\u001b[0;32m-> 1302\u001b[0m \u001b[39mself\u001b[39;49m\u001b[39m.\u001b[39;49mendheaders(body, encode_chunked\u001b[39m=\u001b[39;49mencode_chunked)\n",
            "File \u001b[0;32m~/miniconda3/lib/python3.8/http/client.py:1251\u001b[0m, in \u001b[0;36mHTTPConnection.endheaders\u001b[0;34m(self, message_body, encode_chunked)\u001b[0m\n\u001b[1;32m   1250\u001b[0m     \u001b[39mraise\u001b[39;00m CannotSendHeader()\n\u001b[0;32m-> 1251\u001b[0m \u001b[39mself\u001b[39;49m\u001b[39m.\u001b[39;49m_send_output(message_body, encode_chunked\u001b[39m=\u001b[39;49mencode_chunked)\n",
            "File \u001b[0;32m~/miniconda3/lib/python3.8/http/client.py:1011\u001b[0m, in \u001b[0;36mHTTPConnection._send_output\u001b[0;34m(self, message_body, encode_chunked)\u001b[0m\n\u001b[1;32m   1010\u001b[0m \u001b[39mdel\u001b[39;00m \u001b[39mself\u001b[39m\u001b[39m.\u001b[39m_buffer[:]\n\u001b[0;32m-> 1011\u001b[0m \u001b[39mself\u001b[39;49m\u001b[39m.\u001b[39;49msend(msg)\n\u001b[1;32m   1013\u001b[0m \u001b[39mif\u001b[39;00m message_body \u001b[39mis\u001b[39;00m \u001b[39mnot\u001b[39;00m \u001b[39mNone\u001b[39;00m:\n\u001b[1;32m   1014\u001b[0m \n\u001b[1;32m   1015\u001b[0m     \u001b[39m# create a consistent interface to message_body\u001b[39;00m\n",
            "File \u001b[0;32m~/miniconda3/lib/python3.8/http/client.py:951\u001b[0m, in \u001b[0;36mHTTPConnection.send\u001b[0;34m(self, data)\u001b[0m\n\u001b[1;32m    950\u001b[0m \u001b[39mif\u001b[39;00m \u001b[39mself\u001b[39m\u001b[39m.\u001b[39mauto_open:\n\u001b[0;32m--> 951\u001b[0m     \u001b[39mself\u001b[39;49m\u001b[39m.\u001b[39;49mconnect()\n\u001b[1;32m    952\u001b[0m \u001b[39melse\u001b[39;00m:\n",
            "File \u001b[0;32m~/miniconda3/lib/python3.8/http/client.py:1418\u001b[0m, in \u001b[0;36mHTTPSConnection.connect\u001b[0;34m(self)\u001b[0m\n\u001b[1;32m   1416\u001b[0m \u001b[39m\"\u001b[39m\u001b[39mConnect to a host on a given (SSL) port.\u001b[39m\u001b[39m\"\u001b[39m\n\u001b[0;32m-> 1418\u001b[0m \u001b[39msuper\u001b[39;49m()\u001b[39m.\u001b[39;49mconnect()\n\u001b[1;32m   1420\u001b[0m \u001b[39mif\u001b[39;00m \u001b[39mself\u001b[39m\u001b[39m.\u001b[39m_tunnel_host:\n",
            "File \u001b[0;32m~/miniconda3/lib/python3.8/http/client.py:922\u001b[0m, in \u001b[0;36mHTTPConnection.connect\u001b[0;34m(self)\u001b[0m\n\u001b[1;32m    921\u001b[0m \u001b[39m\u001b[39m\u001b[39m\"\"\"Connect to the host and port specified in __init__.\"\"\"\u001b[39;00m\n\u001b[0;32m--> 922\u001b[0m \u001b[39mself\u001b[39m\u001b[39m.\u001b[39msock \u001b[39m=\u001b[39m \u001b[39mself\u001b[39;49m\u001b[39m.\u001b[39;49m_create_connection(\n\u001b[1;32m    923\u001b[0m     (\u001b[39mself\u001b[39;49m\u001b[39m.\u001b[39;49mhost,\u001b[39mself\u001b[39;49m\u001b[39m.\u001b[39;49mport), \u001b[39mself\u001b[39;49m\u001b[39m.\u001b[39;49mtimeout, \u001b[39mself\u001b[39;49m\u001b[39m.\u001b[39;49msource_address)\n\u001b[1;32m    924\u001b[0m \u001b[39mself\u001b[39m\u001b[39m.\u001b[39msock\u001b[39m.\u001b[39msetsockopt(socket\u001b[39m.\u001b[39mIPPROTO_TCP, socket\u001b[39m.\u001b[39mTCP_NODELAY, \u001b[39m1\u001b[39m)\n",
            "File \u001b[0;32m~/miniconda3/lib/python3.8/socket.py:808\u001b[0m, in \u001b[0;36mcreate_connection\u001b[0;34m(address, timeout, source_address)\u001b[0m\n\u001b[1;32m    807\u001b[0m \u001b[39mtry\u001b[39;00m:\n\u001b[0;32m--> 808\u001b[0m     \u001b[39mraise\u001b[39;00m err\n\u001b[1;32m    809\u001b[0m \u001b[39mfinally\u001b[39;00m:\n\u001b[1;32m    810\u001b[0m     \u001b[39m# Break explicitly a reference cycle\u001b[39;00m\n",
            "File \u001b[0;32m~/miniconda3/lib/python3.8/socket.py:796\u001b[0m, in \u001b[0;36mcreate_connection\u001b[0;34m(address, timeout, source_address)\u001b[0m\n\u001b[1;32m    795\u001b[0m     sock\u001b[39m.\u001b[39mbind(source_address)\n\u001b[0;32m--> 796\u001b[0m sock\u001b[39m.\u001b[39;49mconnect(sa)\n\u001b[1;32m    797\u001b[0m \u001b[39m# Break explicitly a reference cycle\u001b[39;00m\n",
            "\u001b[0;31mTimeoutError\u001b[0m: [Errno 60] Operation timed out",
            "\nDuring handling of the above exception, another exception occurred:\n",
            "\u001b[0;31mURLError\u001b[0m                                  Traceback (most recent call last)",
            "\u001b[1;32m/Users/jian.cheng/github/AI-For-Beginners/lessons/2-Symbolic/MSConceptGraph.ipynb Cell 3\u001b[0m line \u001b[0;36m1\n\u001b[1;32m     <a href='vscode-notebook-cell:/Users/jian.cheng/github/AI-For-Beginners/lessons/2-Symbolic/MSConceptGraph.ipynb#W2sZmlsZQ%3D%3D?line=10'>11</a>\u001b[0m \u001b[39mdef\u001b[39;00m \u001b[39mquery\u001b[39m(x):\n\u001b[1;32m     <a href='vscode-notebook-cell:/Users/jian.cheng/github/AI-For-Beginners/lessons/2-Symbolic/MSConceptGraph.ipynb#W2sZmlsZQ%3D%3D?line=11'>12</a>\u001b[0m     \u001b[39mreturn\u001b[39;00m json\u001b[39m.\u001b[39mloads(http(\u001b[39m\"\u001b[39m\u001b[39mhttps://concept.research.microsoft.com/api/Concept/ScoreByProb?instance=\u001b[39m\u001b[39m{}\u001b[39;00m\u001b[39m&topK=10\u001b[39m\u001b[39m\"\u001b[39m\u001b[39m.\u001b[39mformat(urllib\u001b[39m.\u001b[39mparse\u001b[39m.\u001b[39mquote(x))))\n\u001b[0;32m---> <a href='vscode-notebook-cell:/Users/jian.cheng/github/AI-For-Beginners/lessons/2-Symbolic/MSConceptGraph.ipynb#W2sZmlsZQ%3D%3D?line=13'>14</a>\u001b[0m query(\u001b[39m'\u001b[39;49m\u001b[39mmicrosoft\u001b[39;49m\u001b[39m'\u001b[39;49m)\n",
            "\u001b[1;32m/Users/jian.cheng/github/AI-For-Beginners/lessons/2-Symbolic/MSConceptGraph.ipynb Cell 3\u001b[0m line \u001b[0;36m1\n\u001b[1;32m     <a href='vscode-notebook-cell:/Users/jian.cheng/github/AI-For-Beginners/lessons/2-Symbolic/MSConceptGraph.ipynb#W2sZmlsZQ%3D%3D?line=10'>11</a>\u001b[0m \u001b[39mdef\u001b[39;00m \u001b[39mquery\u001b[39m(x):\n\u001b[0;32m---> <a href='vscode-notebook-cell:/Users/jian.cheng/github/AI-For-Beginners/lessons/2-Symbolic/MSConceptGraph.ipynb#W2sZmlsZQ%3D%3D?line=11'>12</a>\u001b[0m     \u001b[39mreturn\u001b[39;00m json\u001b[39m.\u001b[39mloads(http(\u001b[39m\"\u001b[39;49m\u001b[39mhttps://concept.research.microsoft.com/api/Concept/ScoreByProb?instance=\u001b[39;49m\u001b[39m{}\u001b[39;49;00m\u001b[39m&topK=10\u001b[39;49m\u001b[39m\"\u001b[39;49m\u001b[39m.\u001b[39;49mformat(urllib\u001b[39m.\u001b[39;49mparse\u001b[39m.\u001b[39;49mquote(x))))\n",
            "\u001b[1;32m/Users/jian.cheng/github/AI-For-Beginners/lessons/2-Symbolic/MSConceptGraph.ipynb Cell 3\u001b[0m line \u001b[0;36m7\n\u001b[1;32m      <a href='vscode-notebook-cell:/Users/jian.cheng/github/AI-For-Beginners/lessons/2-Symbolic/MSConceptGraph.ipynb#W2sZmlsZQ%3D%3D?line=4'>5</a>\u001b[0m \u001b[39mdef\u001b[39;00m \u001b[39mhttp\u001b[39m(x):\n\u001b[1;32m      <a href='vscode-notebook-cell:/Users/jian.cheng/github/AI-For-Beginners/lessons/2-Symbolic/MSConceptGraph.ipynb#W2sZmlsZQ%3D%3D?line=5'>6</a>\u001b[0m     ssl\u001b[39m.\u001b[39m_create_default_https_context \u001b[39m=\u001b[39m ssl\u001b[39m.\u001b[39m_create_unverified_context\n\u001b[0;32m----> <a href='vscode-notebook-cell:/Users/jian.cheng/github/AI-For-Beginners/lessons/2-Symbolic/MSConceptGraph.ipynb#W2sZmlsZQ%3D%3D?line=6'>7</a>\u001b[0m     response \u001b[39m=\u001b[39m urllib\u001b[39m.\u001b[39;49mrequest\u001b[39m.\u001b[39;49murlopen(x)\n\u001b[1;32m      <a href='vscode-notebook-cell:/Users/jian.cheng/github/AI-For-Beginners/lessons/2-Symbolic/MSConceptGraph.ipynb#W2sZmlsZQ%3D%3D?line=7'>8</a>\u001b[0m     data \u001b[39m=\u001b[39m response\u001b[39m.\u001b[39mread()\n\u001b[1;32m      <a href='vscode-notebook-cell:/Users/jian.cheng/github/AI-For-Beginners/lessons/2-Symbolic/MSConceptGraph.ipynb#W2sZmlsZQ%3D%3D?line=8'>9</a>\u001b[0m     \u001b[39mreturn\u001b[39;00m data\u001b[39m.\u001b[39mdecode(\u001b[39m'\u001b[39m\u001b[39mutf-8\u001b[39m\u001b[39m'\u001b[39m)\n",
            "File \u001b[0;32m~/miniconda3/lib/python3.8/urllib/request.py:222\u001b[0m, in \u001b[0;36murlopen\u001b[0;34m(url, data, timeout, cafile, capath, cadefault, context)\u001b[0m\n\u001b[1;32m    220\u001b[0m \u001b[39melse\u001b[39;00m:\n\u001b[1;32m    221\u001b[0m     opener \u001b[39m=\u001b[39m _opener\n\u001b[0;32m--> 222\u001b[0m \u001b[39mreturn\u001b[39;00m opener\u001b[39m.\u001b[39;49mopen(url, data, timeout)\n",
            "File \u001b[0;32m~/miniconda3/lib/python3.8/urllib/request.py:525\u001b[0m, in \u001b[0;36mOpenerDirector.open\u001b[0;34m(self, fullurl, data, timeout)\u001b[0m\n\u001b[1;32m    522\u001b[0m     req \u001b[39m=\u001b[39m meth(req)\n\u001b[1;32m    524\u001b[0m sys\u001b[39m.\u001b[39maudit(\u001b[39m'\u001b[39m\u001b[39murllib.Request\u001b[39m\u001b[39m'\u001b[39m, req\u001b[39m.\u001b[39mfull_url, req\u001b[39m.\u001b[39mdata, req\u001b[39m.\u001b[39mheaders, req\u001b[39m.\u001b[39mget_method())\n\u001b[0;32m--> 525\u001b[0m response \u001b[39m=\u001b[39m \u001b[39mself\u001b[39;49m\u001b[39m.\u001b[39;49m_open(req, data)\n\u001b[1;32m    527\u001b[0m \u001b[39m# post-process response\u001b[39;00m\n\u001b[1;32m    528\u001b[0m meth_name \u001b[39m=\u001b[39m protocol\u001b[39m+\u001b[39m\u001b[39m\"\u001b[39m\u001b[39m_response\u001b[39m\u001b[39m\"\u001b[39m\n",
            "File \u001b[0;32m~/miniconda3/lib/python3.8/urllib/request.py:542\u001b[0m, in \u001b[0;36mOpenerDirector._open\u001b[0;34m(self, req, data)\u001b[0m\n\u001b[1;32m    539\u001b[0m     \u001b[39mreturn\u001b[39;00m result\n\u001b[1;32m    541\u001b[0m protocol \u001b[39m=\u001b[39m req\u001b[39m.\u001b[39mtype\n\u001b[0;32m--> 542\u001b[0m result \u001b[39m=\u001b[39m \u001b[39mself\u001b[39;49m\u001b[39m.\u001b[39;49m_call_chain(\u001b[39mself\u001b[39;49m\u001b[39m.\u001b[39;49mhandle_open, protocol, protocol \u001b[39m+\u001b[39;49m\n\u001b[1;32m    543\u001b[0m                           \u001b[39m'\u001b[39;49m\u001b[39m_open\u001b[39;49m\u001b[39m'\u001b[39;49m, req)\n\u001b[1;32m    544\u001b[0m \u001b[39mif\u001b[39;00m result:\n\u001b[1;32m    545\u001b[0m     \u001b[39mreturn\u001b[39;00m result\n",
            "File \u001b[0;32m~/miniconda3/lib/python3.8/urllib/request.py:502\u001b[0m, in \u001b[0;36mOpenerDirector._call_chain\u001b[0;34m(self, chain, kind, meth_name, *args)\u001b[0m\n\u001b[1;32m    500\u001b[0m \u001b[39mfor\u001b[39;00m handler \u001b[39min\u001b[39;00m handlers:\n\u001b[1;32m    501\u001b[0m     func \u001b[39m=\u001b[39m \u001b[39mgetattr\u001b[39m(handler, meth_name)\n\u001b[0;32m--> 502\u001b[0m     result \u001b[39m=\u001b[39m func(\u001b[39m*\u001b[39;49margs)\n\u001b[1;32m    503\u001b[0m     \u001b[39mif\u001b[39;00m result \u001b[39mis\u001b[39;00m \u001b[39mnot\u001b[39;00m \u001b[39mNone\u001b[39;00m:\n\u001b[1;32m    504\u001b[0m         \u001b[39mreturn\u001b[39;00m result\n",
            "File \u001b[0;32m~/miniconda3/lib/python3.8/urllib/request.py:1397\u001b[0m, in \u001b[0;36mHTTPSHandler.https_open\u001b[0;34m(self, req)\u001b[0m\n\u001b[1;32m   1396\u001b[0m \u001b[39mdef\u001b[39;00m \u001b[39mhttps_open\u001b[39m(\u001b[39mself\u001b[39m, req):\n\u001b[0;32m-> 1397\u001b[0m     \u001b[39mreturn\u001b[39;00m \u001b[39mself\u001b[39;49m\u001b[39m.\u001b[39;49mdo_open(http\u001b[39m.\u001b[39;49mclient\u001b[39m.\u001b[39;49mHTTPSConnection, req,\n\u001b[1;32m   1398\u001b[0m         context\u001b[39m=\u001b[39;49m\u001b[39mself\u001b[39;49m\u001b[39m.\u001b[39;49m_context, check_hostname\u001b[39m=\u001b[39;49m\u001b[39mself\u001b[39;49m\u001b[39m.\u001b[39;49m_check_hostname)\n",
            "File \u001b[0;32m~/miniconda3/lib/python3.8/urllib/request.py:1357\u001b[0m, in \u001b[0;36mAbstractHTTPHandler.do_open\u001b[0;34m(self, http_class, req, **http_conn_args)\u001b[0m\n\u001b[1;32m   1354\u001b[0m         h\u001b[39m.\u001b[39mrequest(req\u001b[39m.\u001b[39mget_method(), req\u001b[39m.\u001b[39mselector, req\u001b[39m.\u001b[39mdata, headers,\n\u001b[1;32m   1355\u001b[0m                   encode_chunked\u001b[39m=\u001b[39mreq\u001b[39m.\u001b[39mhas_header(\u001b[39m'\u001b[39m\u001b[39mTransfer-encoding\u001b[39m\u001b[39m'\u001b[39m))\n\u001b[1;32m   1356\u001b[0m     \u001b[39mexcept\u001b[39;00m \u001b[39mOSError\u001b[39;00m \u001b[39mas\u001b[39;00m err: \u001b[39m# timeout error\u001b[39;00m\n\u001b[0;32m-> 1357\u001b[0m         \u001b[39mraise\u001b[39;00m URLError(err)\n\u001b[1;32m   1358\u001b[0m     r \u001b[39m=\u001b[39m h\u001b[39m.\u001b[39mgetresponse()\n\u001b[1;32m   1359\u001b[0m \u001b[39mexcept\u001b[39;00m:\n",
            "\u001b[0;31mURLError\u001b[0m: <urlopen error [Errno 60] Operation timed out>"
          ]
        }
      ],
      "source": [
        "import urllib\n",
        "import json\n",
        "import ssl\n",
        "\n",
        "def http(x):\n",
        "    ssl._create_default_https_context = ssl._create_unverified_context\n",
        "    response = urllib.request.urlopen(x)\n",
        "    data = response.read()\n",
        "    return data.decode('utf-8')\n",
        "\n",
        "def query(x):\n",
        "    return json.loads(http(\"https://concept.research.microsoft.com/api/Concept/ScoreByProb?instance={}&topK=10\".format(urllib.parse.quote(x))))\n",
        "\n",
        "query('microsoft')"
      ]
    },
    {
      "cell_type": "markdown",
      "metadata": {},
      "source": [
        "Let's try to categorize the news titles using parent concepts. To get news titles, we will use [NewsApi.org](http://newsapi.org) service. You need to obtain your own API key in order to use the service - go to the web site and register for free developer plan."
      ]
    },
    {
      "cell_type": "code",
      "execution_count": 20,
      "metadata": {
        "trusted": true
      },
      "outputs": [],
      "source": [
        "newsapi_key = '<your API key here>'\n",
        "def get_news(country='us'):\n",
        "    res = json.loads(http(\"https://newsapi.org/v2/top-headlines?country={0}&apiKey={1}\".format(country,newsapi_key)))\n",
        "    return res['articles']\n",
        "\n",
        "all_titles = [x['title'] for x in get_news('us')+get_news('gb')]"
      ]
    },
    {
      "cell_type": "code",
      "execution_count": 4,
      "metadata": {},
      "outputs": [
        {
          "data": {
            "text/plain": [
              "['Covid-19 Live Updates: Vaccines and Boosters News - The New York Times',\n",
              " 'Ukrainians Flee Mariupol as Russian Forces Push to Take Port City - The Wall Street Journal',\n",
              " 'Bond Yields Jump, Stock Futures Rise After Powell Says Fed Is Ready to Be More Aggressive - The Wall Street Journal',\n",
              " 'Putin critic Alexei Navalny found guilty by Russian court - New York Post ',\n",
              " \"Supreme Court nominee Ketanji Brown Jackson will face questions at confirmation hearing's second day - CNN\",\n",
              " '2 teachers killed at Swedish high school, student arrested - ABC News',\n",
              " 'Clues to Covid-19’s Next Moves Come From Sewers - The Wall Street Journal',\n",
              " 'Republicans to roll dice by grilling Jackson over child-pornography sentencing decisions | TheHill - The Hill',\n",
              " '‘Clear sign’ Putin considering using chemical weapons in Ukraine, claims President Biden - The Independent',\n",
              " 'NASA confirms there are 5,000 planets outside our solar system - Daily Mail',\n",
              " \"US stocks whipsawed overnight after Fed Chair Powell's remarks - Fox Business\",\n",
              " \"'We've learned absolutely nothing': Tests could again be in short supply if Covid surges - POLITICO\",\n",
              " \"Duchess of Cambridge swaps khaki jungle gear for Vampire's Wife dress on Belize trip - Daily Mail\",\n",
              " 'China searches for victims, flight recorders after first plane crash in 12 years - Reuters',\n",
              " 'Second superyacht linked to Russian oligarch Abramovich docks in Turkey - Reuters',\n",
              " 'Live updates: Russia stops talks with Japan over sanctions - The Associated Press - en Español',\n",
              " 'Powers Remain and Threats Lurk as Women’s Sweet 16 Is Set - The New York Times',\n",
              " 'Webb Space Telescope Begins Multi-Instrument Alignment - SciTechDaily',\n",
              " \"UConn vs UCF - NCAA women's tournament second-round highlights - March Madness\",\n",
              " 'Bucking Republican Trend, Indiana Governor Vetoes Transgender Sports Bill - The New York Times',\n",
              " \"Maggie Fox dead: Coronation Street and Shameless actress dies after 'sudden accident' - Mirror Online - The Mirror\",\n",
              " 'China plane crash – live: Search for survivors continues as witness describes moment flight fell from sky - The Independent',\n",
              " 'Daniel Morgan murder: damning report condemns Met police - The Guardian',\n",
              " 'What to expect from Rishi Sunak’s Spring Statement - BBC.com',\n",
              " 'UK and Republic of Ireland in line to host Euro 2028 after no one else bids - The Guardian',\n",
              " \"Friends beg Vladimir Putin's 'lover' to persuade him to end Ukraine invasion - The Mirror\",\n",
              " 'Brass Eye’s outtakes show the brutal TV comedy was the tip of an iceberg - The Guardian',\n",
              " \"Vladimir Putin threatens civilians to break Mariupol's spirit - The Times\",\n",
              " 'Shell U-turn on Cambo oilfield would threaten green targets, say campaigners - The Guardian',\n",
              " 'St Helens dog attack: Girl aged 17 months killed at home - BBC',\n",
              " \"PlayStation to buy 'Assassin's Creed' veteran Jade Raymond's Haven Studios - NME\",\n",
              " '‘Clear sign’ Putin considering using chemical weapons in Ukraine, claims President Biden - The Independent',\n",
              " 'NASA confirms there are 5,000 planets outside our solar system - Daily Mail',\n",
              " 'Nintendo Switch finally has folders • Eurogamer.net - Eurogamer.net',\n",
              " 'FA to “find a solution” as Liverpool fan group blasts “shambolic” Wembley travel - This Is Anfield',\n",
              " 'Manchester United transfer news LIVE Erik ten Hag latest and Man Utd manager updates - Manchester Evening News',\n",
              " 'Inflation raises cost of UK government borrowing in February; crude oil up again – business live - The Guardian',\n",
              " 'Alexei Navalny: Kremlin critic found guilty of large-scale fraud and contempt of court by Russian court - Sky News',\n",
              " \"UK prepares to nationalize Russia natural gas giant Gazprom's retail unit - Business Insider\",\n",
              " 'Zaghari-Ratcliffe: Hunt calls for inquiry into delay over Iran debt payment - The Guardian']"
            ]
          },
          "execution_count": 4,
          "metadata": {},
          "output_type": "execute_result"
        }
      ],
      "source": [
        "all_titles = ['Covid-19 Live Updates: Vaccines and Boosters News - The New York Times',\n",
        " 'Ukrainians Flee Mariupol as Russian Forces Push to Take Port City - The Wall Street Journal',\n",
        " 'Bond Yields Jump, Stock Futures Rise After Powell Says Fed Is Ready to Be More Aggressive - The Wall Street Journal',\n",
        " 'Putin critic Alexei Navalny found guilty by Russian court - New York Post ',\n",
        " \"Supreme Court nominee Ketanji Brown Jackson will face questions at confirmation hearing's second day - CNN\",\n",
        " '2 teachers killed at Swedish high school, student arrested - ABC News',\n",
        " 'Clues to Covid-19’s Next Moves Come From Sewers - The Wall Street Journal',\n",
        " 'Republicans to roll dice by grilling Jackson over child-pornography sentencing decisions | TheHill - The Hill',\n",
        " '‘Clear sign’ Putin considering using chemical weapons in Ukraine, claims President Biden - The Independent',\n",
        " 'NASA confirms there are 5,000 planets outside our solar system - Daily Mail',\n",
        " \"US stocks whipsawed overnight after Fed Chair Powell's remarks - Fox Business\",\n",
        " \"'We've learned absolutely nothing': Tests could again be in short supply if Covid surges - POLITICO\",\n",
        " \"Duchess of Cambridge swaps khaki jungle gear for Vampire's Wife dress on Belize trip - Daily Mail\",\n",
        " 'China searches for victims, flight recorders after first plane crash in 12 years - Reuters',\n",
        " 'Second superyacht linked to Russian oligarch Abramovich docks in Turkey - Reuters',\n",
        " 'Live updates: Russia stops talks with Japan over sanctions - The Associated Press - en Español',\n",
        " 'Powers Remain and Threats Lurk as Women’s Sweet 16 Is Set - The New York Times',\n",
        " 'Webb Space Telescope Begins Multi-Instrument Alignment - SciTechDaily',\n",
        " \"UConn vs UCF - NCAA women's tournament second-round highlights - March Madness\",\n",
        " 'Bucking Republican Trend, Indiana Governor Vetoes Transgender Sports Bill - The New York Times',\n",
        " \"Maggie Fox dead: Coronation Street and Shameless actress dies after 'sudden accident' - Mirror Online - The Mirror\",\n",
        " 'China plane crash – live: Search for survivors continues as witness describes moment flight fell from sky - The Independent',\n",
        " 'Daniel Morgan murder: damning report condemns Met police - The Guardian',\n",
        " 'What to expect from Rishi Sunak’s Spring Statement - BBC.com',\n",
        " 'UK and Republic of Ireland in line to host Euro 2028 after no one else bids - The Guardian',\n",
        " \"Friends beg Vladimir Putin's 'lover' to persuade him to end Ukraine invasion - The Mirror\",\n",
        " 'Brass Eye’s outtakes show the brutal TV comedy was the tip of an iceberg - The Guardian',\n",
        " \"Vladimir Putin threatens civilians to break Mariupol's spirit - The Times\",\n",
        " 'Shell U-turn on Cambo oilfield would threaten green targets, say campaigners - The Guardian',\n",
        " 'St Helens dog attack: Girl aged 17 months killed at home - BBC',\n",
        " \"PlayStation to buy 'Assassin's Creed' veteran Jade Raymond's Haven Studios - NME\",\n",
        " '‘Clear sign’ Putin considering using chemical weapons in Ukraine, claims President Biden - The Independent',\n",
        " 'NASA confirms there are 5,000 planets outside our solar system - Daily Mail',\n",
        " 'Nintendo Switch finally has folders • Eurogamer.net - Eurogamer.net',\n",
        " 'FA to “find a solution” as Liverpool fan group blasts “shambolic” Wembley travel - This Is Anfield',\n",
        " 'Manchester United transfer news LIVE Erik ten Hag latest and Man Utd manager updates - Manchester Evening News',\n",
        " 'Inflation raises cost of UK government borrowing in February; crude oil up again – business live - The Guardian',\n",
        " 'Alexei Navalny: Kremlin critic found guilty of large-scale fraud and contempt of court by Russian court - Sky News',\n",
        " \"UK prepares to nationalize Russia natural gas giant Gazprom's retail unit - Business Insider\",\n",
        " 'Zaghari-Ratcliffe: Hunt calls for inquiry into delay over Iran debt payment - The Guardian']\n",
        "all_titles"
      ]
    },
    {
      "cell_type": "markdown",
      "metadata": {},
      "source": [
        "First of all, we want to be able to extract nouns from news titles. We will use `TextBlob` library to do this, which simplifies a lot of typical NLP tasks like this."
      ]
    },
    {
      "cell_type": "code",
      "execution_count": 2,
      "metadata": {
        "trusted": true
      },
      "outputs": [
        {
          "name": "stdout",
          "output_type": "stream",
          "text": [
            "Collecting textblob\n",
            "  Downloading textblob-0.17.1-py2.py3-none-any.whl (636 kB)\n",
            "\u001b[2K     \u001b[38;2;114;156;31m━━━━━━━━━━━━━━━━━━━━━━━━━━━━━━━━━━━━━━━\u001b[0m \u001b[32m636.8/636.8 kB\u001b[0m \u001b[31m1.1 MB/s\u001b[0m eta \u001b[36m0:00:00\u001b[0mm eta \u001b[36m0:00:01\u001b[0m[36m0:00:01\u001b[0m\n",
            "\u001b[?25hCollecting nltk>=3.1 (from textblob)\n",
            "  Downloading nltk-3.8.1-py3-none-any.whl (1.5 MB)\n",
            "\u001b[2K     \u001b[38;2;114;156;31m━━━━━━━━━━━━━━━━━━━━━━━━━━━━━━━━━━━━━━━━\u001b[0m \u001b[32m1.5/1.5 MB\u001b[0m \u001b[31m2.8 MB/s\u001b[0m eta \u001b[36m0:00:00\u001b[0mm eta \u001b[36m0:00:01\u001b[0m[36m0:00:01\u001b[0mm\n",
            "\u001b[?25hCollecting click (from nltk>=3.1->textblob)\n",
            "  Downloading click-8.1.7-py3-none-any.whl.metadata (3.0 kB)\n",
            "Collecting joblib (from nltk>=3.1->textblob)\n",
            "  Downloading joblib-1.3.2-py3-none-any.whl.metadata (5.4 kB)\n",
            "Collecting regex>=2021.8.3 (from nltk>=3.1->textblob)\n",
            "  Downloading regex-2023.10.3-cp38-cp38-macosx_10_9_x86_64.whl.metadata (40 kB)\n",
            "\u001b[2K     \u001b[38;2;114;156;31m━━━━━━━━━━━━━━━━━━━━━━━━━━━━━━━━━━━━━━━\u001b[0m \u001b[32m40.9/40.9 kB\u001b[0m \u001b[31m232.6 kB/s\u001b[0m eta \u001b[36m0:00:00\u001b[0m kB/s\u001b[0m eta \u001b[36m0:00:01\u001b[0m\n",
            "\u001b[?25hRequirement already satisfied: tqdm in /Users/jian.cheng/miniconda3/lib/python3.8/site-packages (from nltk>=3.1->textblob) (4.65.0)\n",
            "Downloading regex-2023.10.3-cp38-cp38-macosx_10_9_x86_64.whl (296 kB)\n",
            "\u001b[2K   \u001b[38;2;114;156;31m━━━━━━━━━━━━━━━━━━━━━━━━━━━━━━━━━━━━━━━━\u001b[0m \u001b[32m296.3/296.3 kB\u001b[0m \u001b[31m5.6 MB/s\u001b[0m eta \u001b[36m0:00:00\u001b[0m[31m12.0 MB/s\u001b[0m eta \u001b[36m0:00:01\u001b[0m\n",
            "\u001b[?25hDownloading click-8.1.7-py3-none-any.whl (97 kB)\n",
            "\u001b[2K   \u001b[38;2;114;156;31m━━━━━━━━━━━━━━━━━━━━━━━━━━━━━━━━━━━━━━━━\u001b[0m \u001b[32m97.9/97.9 kB\u001b[0m \u001b[31m3.0 MB/s\u001b[0m eta \u001b[36m0:00:00\u001b[0m[31m44.4 MB/s\u001b[0m eta \u001b[36m0:00:01\u001b[0m\n",
            "\u001b[?25hDownloading joblib-1.3.2-py3-none-any.whl (302 kB)\n",
            "\u001b[2K   \u001b[38;2;114;156;31m━━━━━━━━━━━━━━━━━━━━━━━━━━━━━━━━━━━━━━━━\u001b[0m \u001b[32m302.2/302.2 kB\u001b[0m \u001b[31m3.4 MB/s\u001b[0m eta \u001b[36m0:00:00\u001b[0m[36m0:00:01\u001b[0mm eta \u001b[36m0:00:01\u001b[0m\n",
            "\u001b[?25hInstalling collected packages: regex, joblib, click, nltk, textblob\n",
            "Successfully installed click-8.1.7 joblib-1.3.2 nltk-3.8.1 regex-2023.10.3 textblob-0.17.1\n",
            "[nltk_data] Downloading package brown to\n",
            "[nltk_data]     /Users/jian.cheng/nltk_data...\n",
            "[nltk_data]   Unzipping corpora/brown.zip.\n",
            "[nltk_data] Downloading package punkt to\n",
            "[nltk_data]     /Users/jian.cheng/nltk_data...\n",
            "[nltk_data]   Unzipping tokenizers/punkt.zip.\n",
            "[nltk_data] Downloading package wordnet to\n",
            "[nltk_data]     /Users/jian.cheng/nltk_data...\n",
            "[nltk_data] Downloading package averaged_perceptron_tagger to\n",
            "[nltk_data]     /Users/jian.cheng/nltk_data...\n",
            "[nltk_data]   Unzipping taggers/averaged_perceptron_tagger.zip.\n",
            "[nltk_data] Downloading package conll2000 to\n",
            "[nltk_data]     /Users/jian.cheng/nltk_data...\n",
            "[nltk_data]   Unzipping corpora/conll2000.zip.\n",
            "[nltk_data] Downloading package movie_reviews to\n",
            "[nltk_data]     /Users/jian.cheng/nltk_data...\n",
            "[nltk_data]   Unzipping corpora/movie_reviews.zip.\n",
            "Finished.\n"
          ]
        }
      ],
      "source": [
        "import sys\n",
        "!{sys.executable} -m pip install textblob\n",
        "!{sys.executable} -m textblob.download_corpora\n",
        "from textblob import TextBlob"
      ]
    },
    {
      "cell_type": "code",
      "execution_count": 5,
      "metadata": {
        "trusted": true
      },
      "outputs": [
        {
          "data": {
            "text/plain": [
              "{'covid-19 live updates': 1,\n",
              " 'vaccines': 1,\n",
              " 'boosters': 1,\n",
              " 'york': 4,\n",
              " 'ukrainians flee mariupol': 1,\n",
              " 'forces push': 1,\n",
              " 'port city': 1,\n",
              " 'wall street journal': 3,\n",
              " 'bond yields': 1,\n",
              " 'futures rise': 1,\n",
              " 'powell says fed': 1,\n",
              " 'ready': 1,\n",
              " 'be': 1,\n",
              " 'aggressive': 1,\n",
              " 'putin': 3,\n",
              " 'alexei navalny': 2,\n",
              " 'russian': 2,\n",
              " 'supreme court nominee': 1,\n",
              " 'ketanji brown jackson': 1,\n",
              " \"confirmation hearing 's\": 1,\n",
              " 'cnn': 1,\n",
              " 'swedish': 1,\n",
              " 'high school': 1,\n",
              " 'abc': 1,\n",
              " 'clues': 1,\n",
              " 'covid-19': 1,\n",
              " '’ s': 2,\n",
              " 'moves': 1,\n",
              " 'sewers': 1,\n",
              " 'roll dice': 1,\n",
              " 'jackson': 1,\n",
              " 'decisions |': 1,\n",
              " 'thehill': 1,\n",
              " 'clear': 2,\n",
              " 'chemical weapons': 2,\n",
              " 'ukraine': 3,\n",
              " 'claims president': 2,\n",
              " 'biden': 2,\n",
              " 'nasa': 2,\n",
              " 'solar system': 2,\n",
              " 'daily mail': 3,\n",
              " 'us stocks': 1,\n",
              " 'fed chair powell': 1,\n",
              " \"'s remarks\": 1,\n",
              " 'fox': 1,\n",
              " \"'we 've\": 1,\n",
              " 'tests': 1,\n",
              " 'covid': 1,\n",
              " 'politico': 1,\n",
              " 'duchess': 1,\n",
              " 'cambridge': 1,\n",
              " 'swaps khaki jungle gear': 1,\n",
              " 'vampire': 1,\n",
              " 'wife': 1,\n",
              " 'belize': 1,\n",
              " 'china': 2,\n",
              " 'flight recorders': 1,\n",
              " 'plane crash': 1,\n",
              " 'reuters': 2,\n",
              " 'russian oligarch': 1,\n",
              " 'abramovich': 1,\n",
              " 'live': 1,\n",
              " 'russia': 2,\n",
              " 'stops talks': 1,\n",
              " 'japan': 1,\n",
              " 'español': 1,\n",
              " 'powers remain': 1,\n",
              " 'threats lurk': 1,\n",
              " 'set': 1,\n",
              " 'webb': 1,\n",
              " 'telescope begins multi-instrument alignment': 1,\n",
              " 'scitechdaily': 1,\n",
              " 'uconn': 1,\n",
              " 'ucf': 1,\n",
              " 'ncaa': 1,\n",
              " \"women 's tournament second-round highlights\": 1,\n",
              " 'march madness': 1,\n",
              " 'bucking republican trend': 1,\n",
              " 'indiana': 1,\n",
              " 'vetoes transgender': 1,\n",
              " 'bill': 1,\n",
              " 'maggie fox': 1,\n",
              " 'coronation': 1,\n",
              " 'shameless': 1,\n",
              " \"'sudden accident\": 1,\n",
              " 'mirror online': 1,\n",
              " 'mirror': 2,\n",
              " 'plane crash –': 1,\n",
              " 'search': 1,\n",
              " 'moment flight': 1,\n",
              " 'daniel morgan': 1,\n",
              " 'report condemns': 1,\n",
              " 'met': 1,\n",
              " 'guardian': 6,\n",
              " 'rishi sunak': 1,\n",
              " '’ s spring': 1,\n",
              " 'statement': 1,\n",
              " 'bbc.com': 1,\n",
              " 'uk': 3,\n",
              " 'ireland': 1,\n",
              " 'euro': 1,\n",
              " 'vladimir putin': 2,\n",
              " \"'s 'lover\": 1,\n",
              " 'brass eye': 1,\n",
              " '’ s outtakes': 1,\n",
              " 'brutal tv comedy': 1,\n",
              " 'threatens civilians': 1,\n",
              " 'mariupol': 1,\n",
              " \"'s spirit\": 1,\n",
              " 'shell u-turn': 1,\n",
              " 'cambo': 1,\n",
              " 'green targets': 1,\n",
              " 'st helens': 1,\n",
              " 'dog attack': 1,\n",
              " 'girl': 1,\n",
              " 'bbc': 1,\n",
              " 'playstation': 1,\n",
              " \"'assassin 's\": 1,\n",
              " 'creed': 1,\n",
              " 'jade raymond': 1,\n",
              " 'haven studios': 1,\n",
              " 'nme': 1,\n",
              " 'nintendo switch': 1,\n",
              " 'folders •': 1,\n",
              " 'eurogamer.net': 2,\n",
              " 'fa': 1,\n",
              " 'solution ”': 1,\n",
              " 'liverpool': 1,\n",
              " 'fan group blasts “ shambolic ”': 1,\n",
              " 'wembley': 1,\n",
              " 'anfield': 1,\n",
              " 'manchester': 1,\n",
              " 'live erik': 1,\n",
              " 'hag': 1,\n",
              " 'utd': 1,\n",
              " 'manager updates': 1,\n",
              " 'manchester evening': 1,\n",
              " 'inflation': 1,\n",
              " 'government borrowing': 1,\n",
              " 'february': 1,\n",
              " 'crude oil': 1,\n",
              " '– business': 1,\n",
              " 'kremlin': 1,\n",
              " 'large-scale fraud': 1,\n",
              " 'sky': 1,\n",
              " 'natural gas': 1,\n",
              " 'gazprom': 1,\n",
              " 'retail unit': 1,\n",
              " 'insider': 1,\n",
              " 'zaghari-ratcliffe': 1,\n",
              " 'hunt': 1,\n",
              " 'iran': 1,\n",
              " 'debt payment': 1}"
            ]
          },
          "execution_count": 5,
          "metadata": {},
          "output_type": "execute_result"
        }
      ],
      "source": [
        "w = {}\n",
        "for x in all_titles:\n",
        "    for n in TextBlob(x).noun_phrases:\n",
        "        if n in w:\n",
        "            w[n].append(x)\n",
        "        else:\n",
        "            w[n]=[x]\n",
        "{ x:len(w[x]) for x in w.keys()}"
      ]
    },
    {
      "cell_type": "markdown",
      "metadata": {},
      "source": [
        "We can see that nouns do not give us large thematic groups. Let's substitute nouns by more general terms obtained from the concept graph. This will take some time, because we are doing REST call for each noun phrase."
      ]
    },
    {
      "cell_type": "code",
      "execution_count": 6,
      "metadata": {
        "trusted": true
      },
      "outputs": [
        {
          "ename": "URLError",
          "evalue": "<urlopen error [Errno 60] Operation timed out>",
          "output_type": "error",
          "traceback": [
            "\u001b[0;31m---------------------------------------------------------------------------\u001b[0m",
            "\u001b[0;31mTimeoutError\u001b[0m                              Traceback (most recent call last)",
            "File \u001b[0;32m~/miniconda3/lib/python3.8/urllib/request.py:1354\u001b[0m, in \u001b[0;36mAbstractHTTPHandler.do_open\u001b[0;34m(self, http_class, req, **http_conn_args)\u001b[0m\n\u001b[1;32m   1353\u001b[0m \u001b[39mtry\u001b[39;00m:\n\u001b[0;32m-> 1354\u001b[0m     h\u001b[39m.\u001b[39;49mrequest(req\u001b[39m.\u001b[39;49mget_method(), req\u001b[39m.\u001b[39;49mselector, req\u001b[39m.\u001b[39;49mdata, headers,\n\u001b[1;32m   1355\u001b[0m               encode_chunked\u001b[39m=\u001b[39;49mreq\u001b[39m.\u001b[39;49mhas_header(\u001b[39m'\u001b[39;49m\u001b[39mTransfer-encoding\u001b[39;49m\u001b[39m'\u001b[39;49m))\n\u001b[1;32m   1356\u001b[0m \u001b[39mexcept\u001b[39;00m \u001b[39mOSError\u001b[39;00m \u001b[39mas\u001b[39;00m err: \u001b[39m# timeout error\u001b[39;00m\n",
            "File \u001b[0;32m~/miniconda3/lib/python3.8/http/client.py:1256\u001b[0m, in \u001b[0;36mHTTPConnection.request\u001b[0;34m(self, method, url, body, headers, encode_chunked)\u001b[0m\n\u001b[1;32m   1255\u001b[0m \u001b[39m\u001b[39m\u001b[39m\"\"\"Send a complete request to the server.\"\"\"\u001b[39;00m\n\u001b[0;32m-> 1256\u001b[0m \u001b[39mself\u001b[39;49m\u001b[39m.\u001b[39;49m_send_request(method, url, body, headers, encode_chunked)\n",
            "File \u001b[0;32m~/miniconda3/lib/python3.8/http/client.py:1302\u001b[0m, in \u001b[0;36mHTTPConnection._send_request\u001b[0;34m(self, method, url, body, headers, encode_chunked)\u001b[0m\n\u001b[1;32m   1301\u001b[0m     body \u001b[39m=\u001b[39m _encode(body, \u001b[39m'\u001b[39m\u001b[39mbody\u001b[39m\u001b[39m'\u001b[39m)\n\u001b[0;32m-> 1302\u001b[0m \u001b[39mself\u001b[39;49m\u001b[39m.\u001b[39;49mendheaders(body, encode_chunked\u001b[39m=\u001b[39;49mencode_chunked)\n",
            "File \u001b[0;32m~/miniconda3/lib/python3.8/http/client.py:1251\u001b[0m, in \u001b[0;36mHTTPConnection.endheaders\u001b[0;34m(self, message_body, encode_chunked)\u001b[0m\n\u001b[1;32m   1250\u001b[0m     \u001b[39mraise\u001b[39;00m CannotSendHeader()\n\u001b[0;32m-> 1251\u001b[0m \u001b[39mself\u001b[39;49m\u001b[39m.\u001b[39;49m_send_output(message_body, encode_chunked\u001b[39m=\u001b[39;49mencode_chunked)\n",
            "File \u001b[0;32m~/miniconda3/lib/python3.8/http/client.py:1011\u001b[0m, in \u001b[0;36mHTTPConnection._send_output\u001b[0;34m(self, message_body, encode_chunked)\u001b[0m\n\u001b[1;32m   1010\u001b[0m \u001b[39mdel\u001b[39;00m \u001b[39mself\u001b[39m\u001b[39m.\u001b[39m_buffer[:]\n\u001b[0;32m-> 1011\u001b[0m \u001b[39mself\u001b[39;49m\u001b[39m.\u001b[39;49msend(msg)\n\u001b[1;32m   1013\u001b[0m \u001b[39mif\u001b[39;00m message_body \u001b[39mis\u001b[39;00m \u001b[39mnot\u001b[39;00m \u001b[39mNone\u001b[39;00m:\n\u001b[1;32m   1014\u001b[0m \n\u001b[1;32m   1015\u001b[0m     \u001b[39m# create a consistent interface to message_body\u001b[39;00m\n",
            "File \u001b[0;32m~/miniconda3/lib/python3.8/http/client.py:951\u001b[0m, in \u001b[0;36mHTTPConnection.send\u001b[0;34m(self, data)\u001b[0m\n\u001b[1;32m    950\u001b[0m \u001b[39mif\u001b[39;00m \u001b[39mself\u001b[39m\u001b[39m.\u001b[39mauto_open:\n\u001b[0;32m--> 951\u001b[0m     \u001b[39mself\u001b[39;49m\u001b[39m.\u001b[39;49mconnect()\n\u001b[1;32m    952\u001b[0m \u001b[39melse\u001b[39;00m:\n",
            "File \u001b[0;32m~/miniconda3/lib/python3.8/http/client.py:1418\u001b[0m, in \u001b[0;36mHTTPSConnection.connect\u001b[0;34m(self)\u001b[0m\n\u001b[1;32m   1416\u001b[0m \u001b[39m\"\u001b[39m\u001b[39mConnect to a host on a given (SSL) port.\u001b[39m\u001b[39m\"\u001b[39m\n\u001b[0;32m-> 1418\u001b[0m \u001b[39msuper\u001b[39;49m()\u001b[39m.\u001b[39;49mconnect()\n\u001b[1;32m   1420\u001b[0m \u001b[39mif\u001b[39;00m \u001b[39mself\u001b[39m\u001b[39m.\u001b[39m_tunnel_host:\n",
            "File \u001b[0;32m~/miniconda3/lib/python3.8/http/client.py:922\u001b[0m, in \u001b[0;36mHTTPConnection.connect\u001b[0;34m(self)\u001b[0m\n\u001b[1;32m    921\u001b[0m \u001b[39m\u001b[39m\u001b[39m\"\"\"Connect to the host and port specified in __init__.\"\"\"\u001b[39;00m\n\u001b[0;32m--> 922\u001b[0m \u001b[39mself\u001b[39m\u001b[39m.\u001b[39msock \u001b[39m=\u001b[39m \u001b[39mself\u001b[39;49m\u001b[39m.\u001b[39;49m_create_connection(\n\u001b[1;32m    923\u001b[0m     (\u001b[39mself\u001b[39;49m\u001b[39m.\u001b[39;49mhost,\u001b[39mself\u001b[39;49m\u001b[39m.\u001b[39;49mport), \u001b[39mself\u001b[39;49m\u001b[39m.\u001b[39;49mtimeout, \u001b[39mself\u001b[39;49m\u001b[39m.\u001b[39;49msource_address)\n\u001b[1;32m    924\u001b[0m \u001b[39mself\u001b[39m\u001b[39m.\u001b[39msock\u001b[39m.\u001b[39msetsockopt(socket\u001b[39m.\u001b[39mIPPROTO_TCP, socket\u001b[39m.\u001b[39mTCP_NODELAY, \u001b[39m1\u001b[39m)\n",
            "File \u001b[0;32m~/miniconda3/lib/python3.8/socket.py:808\u001b[0m, in \u001b[0;36mcreate_connection\u001b[0;34m(address, timeout, source_address)\u001b[0m\n\u001b[1;32m    807\u001b[0m \u001b[39mtry\u001b[39;00m:\n\u001b[0;32m--> 808\u001b[0m     \u001b[39mraise\u001b[39;00m err\n\u001b[1;32m    809\u001b[0m \u001b[39mfinally\u001b[39;00m:\n\u001b[1;32m    810\u001b[0m     \u001b[39m# Break explicitly a reference cycle\u001b[39;00m\n",
            "File \u001b[0;32m~/miniconda3/lib/python3.8/socket.py:796\u001b[0m, in \u001b[0;36mcreate_connection\u001b[0;34m(address, timeout, source_address)\u001b[0m\n\u001b[1;32m    795\u001b[0m     sock\u001b[39m.\u001b[39mbind(source_address)\n\u001b[0;32m--> 796\u001b[0m sock\u001b[39m.\u001b[39;49mconnect(sa)\n\u001b[1;32m    797\u001b[0m \u001b[39m# Break explicitly a reference cycle\u001b[39;00m\n",
            "\u001b[0;31mTimeoutError\u001b[0m: [Errno 60] Operation timed out",
            "\nDuring handling of the above exception, another exception occurred:\n",
            "\u001b[0;31mURLError\u001b[0m                                  Traceback (most recent call last)",
            "\u001b[1;32m/Users/jian.cheng/github/AI-For-Beginners/lessons/2-Symbolic/MSConceptGraph.ipynb Cell 11\u001b[0m line \u001b[0;36m4\n\u001b[1;32m      <a href='vscode-notebook-cell:/Users/jian.cheng/github/AI-For-Beginners/lessons/2-Symbolic/MSConceptGraph.ipynb#X13sZmlsZQ%3D%3D?line=1'>2</a>\u001b[0m \u001b[39mfor\u001b[39;00m x \u001b[39min\u001b[39;00m all_titles:\n\u001b[1;32m      <a href='vscode-notebook-cell:/Users/jian.cheng/github/AI-For-Beginners/lessons/2-Symbolic/MSConceptGraph.ipynb#X13sZmlsZQ%3D%3D?line=2'>3</a>\u001b[0m     \u001b[39mfor\u001b[39;00m noun \u001b[39min\u001b[39;00m TextBlob(x)\u001b[39m.\u001b[39mnoun_phrases:\n\u001b[0;32m----> <a href='vscode-notebook-cell:/Users/jian.cheng/github/AI-For-Beginners/lessons/2-Symbolic/MSConceptGraph.ipynb#X13sZmlsZQ%3D%3D?line=3'>4</a>\u001b[0m         terms \u001b[39m=\u001b[39m query(noun\u001b[39m.\u001b[39;49mreplace(\u001b[39m'\u001b[39;49m\u001b[39m \u001b[39;49m\u001b[39m'\u001b[39;49m,\u001b[39m'\u001b[39;49m\u001b[39m%\u001b[39;49m\u001b[39m20\u001b[39;49m\u001b[39m'\u001b[39;49m))\n\u001b[1;32m      <a href='vscode-notebook-cell:/Users/jian.cheng/github/AI-For-Beginners/lessons/2-Symbolic/MSConceptGraph.ipynb#X13sZmlsZQ%3D%3D?line=4'>5</a>\u001b[0m         \u001b[39mfor\u001b[39;00m term \u001b[39min\u001b[39;00m [u \u001b[39mfor\u001b[39;00m u \u001b[39min\u001b[39;00m terms\u001b[39m.\u001b[39mkeys() \u001b[39mif\u001b[39;00m terms[u]\u001b[39m>\u001b[39m\u001b[39m0.1\u001b[39m]:\n\u001b[1;32m      <a href='vscode-notebook-cell:/Users/jian.cheng/github/AI-For-Beginners/lessons/2-Symbolic/MSConceptGraph.ipynb#X13sZmlsZQ%3D%3D?line=5'>6</a>\u001b[0m             \u001b[39mif\u001b[39;00m term \u001b[39min\u001b[39;00m w:\n",
            "\u001b[1;32m/Users/jian.cheng/github/AI-For-Beginners/lessons/2-Symbolic/MSConceptGraph.ipynb Cell 11\u001b[0m line \u001b[0;36m1\n\u001b[1;32m     <a href='vscode-notebook-cell:/Users/jian.cheng/github/AI-For-Beginners/lessons/2-Symbolic/MSConceptGraph.ipynb#X13sZmlsZQ%3D%3D?line=10'>11</a>\u001b[0m \u001b[39mdef\u001b[39;00m \u001b[39mquery\u001b[39m(x):\n\u001b[0;32m---> <a href='vscode-notebook-cell:/Users/jian.cheng/github/AI-For-Beginners/lessons/2-Symbolic/MSConceptGraph.ipynb#X13sZmlsZQ%3D%3D?line=11'>12</a>\u001b[0m     \u001b[39mreturn\u001b[39;00m json\u001b[39m.\u001b[39mloads(http(\u001b[39m\"\u001b[39;49m\u001b[39mhttps://concept.research.microsoft.com/api/Concept/ScoreByProb?instance=\u001b[39;49m\u001b[39m{}\u001b[39;49;00m\u001b[39m&topK=10\u001b[39;49m\u001b[39m\"\u001b[39;49m\u001b[39m.\u001b[39;49mformat(urllib\u001b[39m.\u001b[39;49mparse\u001b[39m.\u001b[39;49mquote(x))))\n",
            "\u001b[1;32m/Users/jian.cheng/github/AI-For-Beginners/lessons/2-Symbolic/MSConceptGraph.ipynb Cell 11\u001b[0m line \u001b[0;36m7\n\u001b[1;32m      <a href='vscode-notebook-cell:/Users/jian.cheng/github/AI-For-Beginners/lessons/2-Symbolic/MSConceptGraph.ipynb#X13sZmlsZQ%3D%3D?line=4'>5</a>\u001b[0m \u001b[39mdef\u001b[39;00m \u001b[39mhttp\u001b[39m(x):\n\u001b[1;32m      <a href='vscode-notebook-cell:/Users/jian.cheng/github/AI-For-Beginners/lessons/2-Symbolic/MSConceptGraph.ipynb#X13sZmlsZQ%3D%3D?line=5'>6</a>\u001b[0m     ssl\u001b[39m.\u001b[39m_create_default_https_context \u001b[39m=\u001b[39m ssl\u001b[39m.\u001b[39m_create_unverified_context\n\u001b[0;32m----> <a href='vscode-notebook-cell:/Users/jian.cheng/github/AI-For-Beginners/lessons/2-Symbolic/MSConceptGraph.ipynb#X13sZmlsZQ%3D%3D?line=6'>7</a>\u001b[0m     response \u001b[39m=\u001b[39m urllib\u001b[39m.\u001b[39;49mrequest\u001b[39m.\u001b[39;49murlopen(x)\n\u001b[1;32m      <a href='vscode-notebook-cell:/Users/jian.cheng/github/AI-For-Beginners/lessons/2-Symbolic/MSConceptGraph.ipynb#X13sZmlsZQ%3D%3D?line=7'>8</a>\u001b[0m     data \u001b[39m=\u001b[39m response\u001b[39m.\u001b[39mread()\n\u001b[1;32m      <a href='vscode-notebook-cell:/Users/jian.cheng/github/AI-For-Beginners/lessons/2-Symbolic/MSConceptGraph.ipynb#X13sZmlsZQ%3D%3D?line=8'>9</a>\u001b[0m     \u001b[39mreturn\u001b[39;00m data\u001b[39m.\u001b[39mdecode(\u001b[39m'\u001b[39m\u001b[39mutf-8\u001b[39m\u001b[39m'\u001b[39m)\n",
            "File \u001b[0;32m~/miniconda3/lib/python3.8/urllib/request.py:222\u001b[0m, in \u001b[0;36murlopen\u001b[0;34m(url, data, timeout, cafile, capath, cadefault, context)\u001b[0m\n\u001b[1;32m    220\u001b[0m \u001b[39melse\u001b[39;00m:\n\u001b[1;32m    221\u001b[0m     opener \u001b[39m=\u001b[39m _opener\n\u001b[0;32m--> 222\u001b[0m \u001b[39mreturn\u001b[39;00m opener\u001b[39m.\u001b[39;49mopen(url, data, timeout)\n",
            "File \u001b[0;32m~/miniconda3/lib/python3.8/urllib/request.py:525\u001b[0m, in \u001b[0;36mOpenerDirector.open\u001b[0;34m(self, fullurl, data, timeout)\u001b[0m\n\u001b[1;32m    522\u001b[0m     req \u001b[39m=\u001b[39m meth(req)\n\u001b[1;32m    524\u001b[0m sys\u001b[39m.\u001b[39maudit(\u001b[39m'\u001b[39m\u001b[39murllib.Request\u001b[39m\u001b[39m'\u001b[39m, req\u001b[39m.\u001b[39mfull_url, req\u001b[39m.\u001b[39mdata, req\u001b[39m.\u001b[39mheaders, req\u001b[39m.\u001b[39mget_method())\n\u001b[0;32m--> 525\u001b[0m response \u001b[39m=\u001b[39m \u001b[39mself\u001b[39;49m\u001b[39m.\u001b[39;49m_open(req, data)\n\u001b[1;32m    527\u001b[0m \u001b[39m# post-process response\u001b[39;00m\n\u001b[1;32m    528\u001b[0m meth_name \u001b[39m=\u001b[39m protocol\u001b[39m+\u001b[39m\u001b[39m\"\u001b[39m\u001b[39m_response\u001b[39m\u001b[39m\"\u001b[39m\n",
            "File \u001b[0;32m~/miniconda3/lib/python3.8/urllib/request.py:542\u001b[0m, in \u001b[0;36mOpenerDirector._open\u001b[0;34m(self, req, data)\u001b[0m\n\u001b[1;32m    539\u001b[0m     \u001b[39mreturn\u001b[39;00m result\n\u001b[1;32m    541\u001b[0m protocol \u001b[39m=\u001b[39m req\u001b[39m.\u001b[39mtype\n\u001b[0;32m--> 542\u001b[0m result \u001b[39m=\u001b[39m \u001b[39mself\u001b[39;49m\u001b[39m.\u001b[39;49m_call_chain(\u001b[39mself\u001b[39;49m\u001b[39m.\u001b[39;49mhandle_open, protocol, protocol \u001b[39m+\u001b[39;49m\n\u001b[1;32m    543\u001b[0m                           \u001b[39m'\u001b[39;49m\u001b[39m_open\u001b[39;49m\u001b[39m'\u001b[39;49m, req)\n\u001b[1;32m    544\u001b[0m \u001b[39mif\u001b[39;00m result:\n\u001b[1;32m    545\u001b[0m     \u001b[39mreturn\u001b[39;00m result\n",
            "File \u001b[0;32m~/miniconda3/lib/python3.8/urllib/request.py:502\u001b[0m, in \u001b[0;36mOpenerDirector._call_chain\u001b[0;34m(self, chain, kind, meth_name, *args)\u001b[0m\n\u001b[1;32m    500\u001b[0m \u001b[39mfor\u001b[39;00m handler \u001b[39min\u001b[39;00m handlers:\n\u001b[1;32m    501\u001b[0m     func \u001b[39m=\u001b[39m \u001b[39mgetattr\u001b[39m(handler, meth_name)\n\u001b[0;32m--> 502\u001b[0m     result \u001b[39m=\u001b[39m func(\u001b[39m*\u001b[39;49margs)\n\u001b[1;32m    503\u001b[0m     \u001b[39mif\u001b[39;00m result \u001b[39mis\u001b[39;00m \u001b[39mnot\u001b[39;00m \u001b[39mNone\u001b[39;00m:\n\u001b[1;32m    504\u001b[0m         \u001b[39mreturn\u001b[39;00m result\n",
            "File \u001b[0;32m~/miniconda3/lib/python3.8/urllib/request.py:1397\u001b[0m, in \u001b[0;36mHTTPSHandler.https_open\u001b[0;34m(self, req)\u001b[0m\n\u001b[1;32m   1396\u001b[0m \u001b[39mdef\u001b[39;00m \u001b[39mhttps_open\u001b[39m(\u001b[39mself\u001b[39m, req):\n\u001b[0;32m-> 1397\u001b[0m     \u001b[39mreturn\u001b[39;00m \u001b[39mself\u001b[39;49m\u001b[39m.\u001b[39;49mdo_open(http\u001b[39m.\u001b[39;49mclient\u001b[39m.\u001b[39;49mHTTPSConnection, req,\n\u001b[1;32m   1398\u001b[0m         context\u001b[39m=\u001b[39;49m\u001b[39mself\u001b[39;49m\u001b[39m.\u001b[39;49m_context, check_hostname\u001b[39m=\u001b[39;49m\u001b[39mself\u001b[39;49m\u001b[39m.\u001b[39;49m_check_hostname)\n",
            "File \u001b[0;32m~/miniconda3/lib/python3.8/urllib/request.py:1357\u001b[0m, in \u001b[0;36mAbstractHTTPHandler.do_open\u001b[0;34m(self, http_class, req, **http_conn_args)\u001b[0m\n\u001b[1;32m   1354\u001b[0m         h\u001b[39m.\u001b[39mrequest(req\u001b[39m.\u001b[39mget_method(), req\u001b[39m.\u001b[39mselector, req\u001b[39m.\u001b[39mdata, headers,\n\u001b[1;32m   1355\u001b[0m                   encode_chunked\u001b[39m=\u001b[39mreq\u001b[39m.\u001b[39mhas_header(\u001b[39m'\u001b[39m\u001b[39mTransfer-encoding\u001b[39m\u001b[39m'\u001b[39m))\n\u001b[1;32m   1356\u001b[0m     \u001b[39mexcept\u001b[39;00m \u001b[39mOSError\u001b[39;00m \u001b[39mas\u001b[39;00m err: \u001b[39m# timeout error\u001b[39;00m\n\u001b[0;32m-> 1357\u001b[0m         \u001b[39mraise\u001b[39;00m URLError(err)\n\u001b[1;32m   1358\u001b[0m     r \u001b[39m=\u001b[39m h\u001b[39m.\u001b[39mgetresponse()\n\u001b[1;32m   1359\u001b[0m \u001b[39mexcept\u001b[39;00m:\n",
            "\u001b[0;31mURLError\u001b[0m: <urlopen error [Errno 60] Operation timed out>"
          ]
        }
      ],
      "source": [
        "w = {}\n",
        "for x in all_titles:\n",
        "    for noun in TextBlob(x).noun_phrases:\n",
        "        terms = query(noun.replace(' ','%20'))\n",
        "        for term in [u for u in terms.keys() if terms[u]>0.1]:\n",
        "            if term in w:\n",
        "                w[term].append(x)\n",
        "            else:\n",
        "                w[term]=[x]"
      ]
    },
    {
      "cell_type": "code",
      "execution_count": 24,
      "metadata": {
        "trusted": true
      },
      "outputs": [
        {
          "data": {
            "text/plain": [
              "{'city': 9,\n",
              " 'brand': 4,\n",
              " 'place': 9,\n",
              " 'town': 4,\n",
              " 'factor': 4,\n",
              " 'film': 4,\n",
              " 'nation': 11,\n",
              " 'state': 5,\n",
              " 'person': 4,\n",
              " 'organization': 5,\n",
              " 'publication': 10,\n",
              " 'market': 5,\n",
              " 'economy': 4,\n",
              " 'company': 6,\n",
              " 'newspaper': 6,\n",
              " 'relationship': 6}"
            ]
          },
          "execution_count": 24,
          "metadata": {},
          "output_type": "execute_result"
        }
      ],
      "source": [
        "{ x:len(w[x]) for x in w.keys() if len(w[x])>3}"
      ]
    },
    {
      "cell_type": "code",
      "execution_count": 27,
      "metadata": {
        "trusted": true
      },
      "outputs": [
        {
          "name": "stdout",
          "output_type": "stream",
          "text": [
            "\n",
            "ECONOMY:\n",
            "China searches for victims, flight recorders after first plane crash in 12 years - Reuters\n",
            "Live updates: Russia stops talks with Japan over sanctions - The Associated Press - en Español\n",
            "China plane crash – live: Search for survivors continues as witness describes moment flight fell from sky - The Independent\n",
            "UK prepares to nationalize Russia natural gas giant Gazprom's retail unit - Business Insider\n",
            "\n",
            "NATION:\n",
            "‘Clear sign’ Putin considering using chemical weapons in Ukraine, claims President Biden - The Independent\n",
            "Duchess of Cambridge swaps khaki jungle gear for Vampire's Wife dress on Belize trip - Daily Mail\n",
            "China searches for victims, flight recorders after first plane crash in 12 years - Reuters\n",
            "Live updates: Russia stops talks with Japan over sanctions - The Associated Press - en Español\n",
            "Live updates: Russia stops talks with Japan over sanctions - The Associated Press - en Español\n",
            "China plane crash – live: Search for survivors continues as witness describes moment flight fell from sky - The Independent\n",
            "UK and Republic of Ireland in line to host Euro 2028 after no one else bids - The Guardian\n",
            "Friends beg Vladimir Putin's 'lover' to persuade him to end Ukraine invasion - The Mirror\n",
            "‘Clear sign’ Putin considering using chemical weapons in Ukraine, claims President Biden - The Independent\n",
            "UK prepares to nationalize Russia natural gas giant Gazprom's retail unit - Business Insider\n",
            "Zaghari-Ratcliffe: Hunt calls for inquiry into delay over Iran debt payment - The Guardian\n",
            "\n",
            "PERSON:\n",
            "‘Clear sign’ Putin considering using chemical weapons in Ukraine, claims President Biden - The Independent\n",
            "Duchess of Cambridge swaps khaki jungle gear for Vampire's Wife dress on Belize trip - Daily Mail\n",
            "Second superyacht linked to Russian oligarch Abramovich docks in Turkey - Reuters\n",
            "‘Clear sign’ Putin considering using chemical weapons in Ukraine, claims President Biden - The Independent\n"
          ]
        }
      ],
      "source": [
        "print('\\nECONOMY:\\n'+'\\n'.join(w['economy']))\n",
        "print('\\nNATION:\\n'+'\\n'.join(w['nation']))\n",
        "print('\\nPERSON:\\n'+'\\n'.join(w['person']))"
      ]
    }
  ],
  "metadata": {
    "kernelspec": {
      "display_name": "Python 3.7.4 64-bit (conda)",
      "metadata": {
        "interpreter": {
          "hash": "86193a1ab0ba47eac1c69c1756090baa3b420b3eea7d4aafab8b85f8b312f0c5"
        }
      },
      "name": "python3"
    },
    "language_info": {
      "codemirror_mode": {
        "name": "ipython",
        "version": 3
      },
      "file_extension": ".py",
      "mimetype": "text/x-python",
      "name": "python",
      "nbconvert_exporter": "python",
      "pygments_lexer": "ipython3",
      "version": "3.8.18"
    }
  },
  "nbformat": 4,
  "nbformat_minor": 2
}
